{
 "cells": [
  {
   "cell_type": "markdown",
   "metadata": {},
   "source": [
    "## Matrices Operations and Linear Regression"
   ]
  },
  {
   "cell_type": "markdown",
   "metadata": {},
   "source": [
    "## Setup"
   ]
  },
  {
   "cell_type": "code",
   "execution_count": 1,
   "metadata": {},
   "outputs": [],
   "source": [
    "import numpy as np  # This should be all the dependencies you will need"
   ]
  },
  {
   "cell_type": "markdown",
   "metadata": {},
   "source": [
    "### 1.1 Matrix Element Wise-multiplication\n",
    "\n",
    "Consider the two following matrices \n",
    "\n",
    "$$\n",
    "A = \\begin{pmatrix}\n",
    "1&0&0\\\\\n",
    "0&1&0\\\\\n",
    "0&0&1\\\\\n",
    "\\end{pmatrix}\n",
    "$$\n",
    "\n",
    "and\n",
    "\n",
    "$$\n",
    "B = \\begin{pmatrix}\n",
    "1&2&3\\\\\n",
    "4&5&6\\\\\n",
    "7&8&9\\\\\n",
    "\\end{pmatrix}\n",
    "$$\n",
    "\n",
    "Write a Python program that computes the element-wise multiplication of the two matrices, i.e.\n",
    "\n",
    "$$\n",
    "C = \\begin{pmatrix}\n",
    "1&0&0\\\\\n",
    "0&5&0\\\\\n",
    "0&0&9\\\\\n",
    "\\end{pmatrix}\n",
    "$$"
   ]
  },
  {
   "cell_type": "code",
   "execution_count": 2,
   "metadata": {},
   "outputs": [
    {
     "data": {
      "text/plain": [
       "array([[1., 0., 0.],\n",
       "       [0., 1., 0.],\n",
       "       [0., 0., 1.]])"
      ]
     },
     "execution_count": 2,
     "metadata": {},
     "output_type": "execute_result"
    }
   ],
   "source": [
    "# identity matrix aka unit matrix\n",
    "A = np.identity(3) \n",
    "A"
   ]
  },
  {
   "cell_type": "code",
   "execution_count": 3,
   "metadata": {},
   "outputs": [
    {
     "data": {
      "text/plain": [
       "array([[1., 0., 0.],\n",
       "       [0., 1., 0.],\n",
       "       [0., 0., 1.]])"
      ]
     },
     "execution_count": 3,
     "metadata": {},
     "output_type": "execute_result"
    }
   ],
   "source": [
    "A = np.eye(3)\n",
    "A"
   ]
  },
  {
   "cell_type": "code",
   "execution_count": 4,
   "metadata": {},
   "outputs": [
    {
     "data": {
      "text/plain": [
       "array([[1, 2, 3],\n",
       "       [4, 5, 6],\n",
       "       [7, 8, 9]])"
      ]
     },
     "execution_count": 4,
     "metadata": {},
     "output_type": "execute_result"
    }
   ],
   "source": [
    "B = np.arange(1, 10).reshape(3, -1)\n",
    "B"
   ]
  },
  {
   "cell_type": "code",
   "execution_count": 5,
   "metadata": {},
   "outputs": [
    {
     "data": {
      "text/plain": [
       "array([[1, 0, 0],\n",
       "       [0, 5, 0],\n",
       "       [0, 0, 9]])"
      ]
     },
     "execution_count": 5,
     "metadata": {},
     "output_type": "execute_result"
    }
   ],
   "source": [
    "# diagonal matrix\n",
    "C = np.diagflat([1,5,9]) \n",
    "C"
   ]
  },
  {
   "cell_type": "code",
   "execution_count": 6,
   "metadata": {},
   "outputs": [
    {
     "data": {
      "text/plain": [
       "array([[1, 0, 0],\n",
       "       [0, 5, 0],\n",
       "       [0, 0, 9]])"
      ]
     },
     "execution_count": 6,
     "metadata": {},
     "output_type": "execute_result"
    }
   ],
   "source": [
    "# alternative\n",
    "C = np.diag(np.diag(B)) \n",
    "C"
   ]
  },
  {
   "cell_type": "code",
   "execution_count": 7,
   "metadata": {},
   "outputs": [
    {
     "data": {
      "text/plain": [
       "array([[1., 0., 0.],\n",
       "       [0., 5., 0.],\n",
       "       [0., 0., 9.]])"
      ]
     },
     "execution_count": 7,
     "metadata": {},
     "output_type": "execute_result"
    }
   ],
   "source": [
    "C = np.multiply(A, B)\n",
    "C"
   ]
  },
  {
   "cell_type": "markdown",
   "metadata": {},
   "source": [
    "### 1.2 Matrix-Matrix Multiplication\n",
    "\n",
    "Consider the following two matrices\n",
    "\n",
    "$$\n",
    "A = \\begin{pmatrix}\n",
    "2&1&3\\\\\n",
    "1&1&2\\\\\n",
    "\\end{pmatrix}\n",
    "$$\n",
    "\n",
    "and\n",
    "\n",
    "$$\n",
    "B = \\begin{pmatrix}\n",
    "1&2\\\\\n",
    "5&6\\\\\n",
    "7&9\\\\\n",
    "\\end{pmatrix}\n",
    "$$\n",
    "\n",
    "Write a Python program that computes the matrix multiplication of the two matrices, i.e.\n",
    "\n",
    "$$\n",
    "C = A \\times B = \\begin{pmatrix}\n",
    "28&37\\\\\n",
    "20&26\\\\\n",
    "\\end{pmatrix}\n",
    "$$\n",
    "Run the same program for the matrices of Exercise 1.1. Which result do you get?"
   ]
  },
  {
   "cell_type": "code",
   "execution_count": 8,
   "metadata": {},
   "outputs": [
    {
     "data": {
      "text/plain": [
       "array([[2, 1, 3],\n",
       "       [1, 1, 2]])"
      ]
     },
     "execution_count": 8,
     "metadata": {},
     "output_type": "execute_result"
    }
   ],
   "source": [
    "A = np.array([2,1,3,1,1,2]).reshape(2,-1)\n",
    "A"
   ]
  },
  {
   "cell_type": "code",
   "execution_count": 9,
   "metadata": {},
   "outputs": [
    {
     "data": {
      "text/plain": [
       "array([[1, 2],\n",
       "       [5, 6],\n",
       "       [7, 9]])"
      ]
     },
     "execution_count": 9,
     "metadata": {},
     "output_type": "execute_result"
    }
   ],
   "source": [
    "B = np.array([1,2,5,6,7,9]).reshape(3,-1)\n",
    "B"
   ]
  },
  {
   "cell_type": "code",
   "execution_count": 10,
   "metadata": {},
   "outputs": [
    {
     "data": {
      "text/plain": [
       "array([[28, 37],\n",
       "       [20, 26]])"
      ]
     },
     "execution_count": 10,
     "metadata": {},
     "output_type": "execute_result"
    }
   ],
   "source": [
    "C = A.dot(B)\n",
    "C"
   ]
  },
  {
   "cell_type": "markdown",
   "metadata": {},
   "source": [
    "### 1.3 Linear Regression"
   ]
  },
  {
   "cell_type": "code",
   "execution_count": 11,
   "metadata": {},
   "outputs": [],
   "source": [
    "# generate some fake data data\n",
    "babies = range(10)\n",
    "months = np.arange(13)\n",
    "data = [(month, np.dot(month, 24.7) + 96 + np.random.normal(loc=0, scale=20))\n",
    "        for month in months\n",
    "        for baby in babies]\n",
    "month_data = [element[0] for element in data]\n",
    "weight_data = [element[1] for element in data]\n",
    "# Let's put the month_data into the matrix X together with the biases column vector\n",
    "X_1 = np.array(month_data)    # here we put month_data into a row vector called X_1\n",
    "X_0 = np.ones([X_1.shape[0], 1]) # this is the biases column vector\n",
    "X_1 = X_1[:, np.newaxis]    # here we convert X_1 from a row vector to a column vector\n",
    "X = np.concatenate((X_0, X_1), axis=1) # here we concatenate the biases vector to the month_data vector\n",
    "\n",
    "# Let's put the weight_data into the output vector y\n",
    "y = np.array(weight_data)"
   ]
  },
  {
   "cell_type": "code",
   "execution_count": 12,
   "metadata": {},
   "outputs": [
    {
     "data": {
      "text/plain": [
       "(2, 1)"
      ]
     },
     "execution_count": 12,
     "metadata": {},
     "output_type": "execute_result"
    }
   ],
   "source": [
    "X.ndim, y.ndim"
   ]
  },
  {
   "cell_type": "code",
   "execution_count": 13,
   "metadata": {},
   "outputs": [
    {
     "data": {
      "text/plain": [
       "((130, 2), (130,))"
      ]
     },
     "execution_count": 13,
     "metadata": {},
     "output_type": "execute_result"
    }
   ],
   "source": [
    "X.shape, y.shape"
   ]
  },
  {
   "cell_type": "markdown",
   "metadata": {},
   "source": [
    "Given: \n",
    "- the two-dimensional array (i.e. a matrix) $X$, containing a column with biases (all set to 1) and a column containing the ages of children (expressed in months)\n",
    "- a one dimensional column array $y$ containing the weights of the same children expressed in kilograms\n",
    "Write a function to compute the best fit  using the Linear Regression model with Ordinary Least Squares Method:\n",
    "$$\n",
    "\\beta = (X^T X)^{-1}X^T y\n",
    "$$\n",
    "where, given a matrix $A$, $A^T$ is the transpose matrix of A, and $A^{-1}$ is the inverse matrix of $A$.\n",
    "\n",
    "\n",
    "The $X$ and $y$ arrays have precomputed for you in the cell above"
   ]
  },
  {
   "cell_type": "code",
   "execution_count": 14,
   "metadata": {},
   "outputs": [],
   "source": [
    "# Hint: check the NumPy documentation to find the functions to compute the transpose and the inverse of a matrix\n",
    "def ols(X, y):\n",
    "    '''returns parameters based on Ordinary Least Squares.'''\n",
    "    return np.linalg.inv(X.transpose().dot(X)).dot(X.transpose()).dot(y)"
   ]
  },
  {
   "cell_type": "markdown",
   "metadata": {},
   "source": [
    "Once you function has been written, you should be able to run the code below:"
   ]
  },
  {
   "cell_type": "code",
   "execution_count": 15,
   "metadata": {},
   "outputs": [
    {
     "name": "stdout",
     "output_type": "stream",
     "text": [
      "intercept: 93.84721220905612 | slope: 24.999723304997836\n"
     ]
    }
   ],
   "source": [
    "# find parameters\n",
    "params = ols(X,y)\n",
    "print('intercept: {} | slope: {}'.format(params[0], params[1]))"
   ]
  },
  {
   "cell_type": "markdown",
   "metadata": {},
   "source": [
    "You should also be able to visualize the result of the OLS fitting running the code in teh cell below:"
   ]
  },
  {
   "cell_type": "code",
   "execution_count": 16,
   "metadata": {},
   "outputs": [
    {
     "data": {
      "text/plain": [
       "Text(0, 0.5, 'Weight (?)')"
      ]
     },
     "execution_count": 16,
     "metadata": {},
     "output_type": "execute_result"
    },
    {
     "data": {
      "image/png": "[encoded data removed]",
      "text/plain": [
       "<Figure size 648x432 with 1 Axes>"
      ]
     },
     "metadata": {
      "needs_background": "light"
     },
     "output_type": "display_data"
    }
   ],
   "source": [
    "## here we draw a graph of the linear estimator\n",
    "import matplotlib.pyplot as plt\n",
    "%matplotlib inline\n",
    "\n",
    "fig, axes = plt.subplots(1, 1, figsize=(9, 6))\n",
    "axes.scatter(month_data, weight_data)\n",
    "x_vals = np.array(axes.get_xlim())\n",
    "y_vals = params[0] + params[1] * x_vals\n",
    "axes.plot(x_vals, y_vals, 'r--')\n",
    "plt.title('Linear Regression example')\n",
    "plt.xlabel('Age (Months)')\n",
    "plt.ylabel('Weight (?)')"
   ]
  },
  {
   "cell_type": "code",
   "execution_count": null,
   "metadata": {},
   "outputs": [],
   "source": []
  }
 ],
 "metadata": {
  "kernelspec": {
   "display_name": "Python 3",
   "language": "python",
   "name": "python3"
  },
  "language_info": {
   "codemirror_mode": {
    "name": "ipython",
    "version": 3
   },
   "file_extension": ".py",
   "mimetype": "text/x-python",
   "name": "python",
   "nbconvert_exporter": "python",
   "pygments_lexer": "ipython3",
   "version": "3.7.4"
  }
 },
 "nbformat": 4,
 "nbformat_minor": 2
}
